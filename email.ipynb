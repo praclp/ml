{
 "cells": [
  {
   "cell_type": "code",
   "execution_count": 1,
   "id": "90e60e58",
   "metadata": {},
   "outputs": [],
   "source": [
    "import pandas as pd\n",
    "import numpy as np\n",
    "from sklearn.model_selection import train_test_split\n",
    "from sklearn.svm import SVC\n",
    "from sklearn.neighbors import KNeighborsClassifier  \n",
    "from sklearn import metrics"
   ]
  },
  {
   "cell_type": "code",
   "execution_count": null,
   "id": "ec556820",
   "metadata": {},
   "outputs": [],
   "source": [
    "df = pd.read_csv('emails.csv')\n",
    "df"
   ]
  },
  {
   "cell_type": "code",
   "execution_count": null,
   "id": "2fa10a5e",
   "metadata": {},
   "outputs": [],
   "source": [
    "df.shape"
   ]
  },
  {
   "cell_type": "code",
   "execution_count": null,
   "id": "87db4ccc",
   "metadata": {},
   "outputs": [],
   "source": [
    "df.isnull().any()"
   ]
  },
  {
   "cell_type": "code",
   "execution_count": null,
   "id": "ea070399",
   "metadata": {},
   "outputs": [],
   "source": [
    "df.drop(columns='Email No.', inplace=True)\n",
    "df"
   ]
  },
  {
   "cell_type": "code",
   "execution_count": null,
   "id": "ee463161",
   "metadata": {},
   "outputs": [],
   "source": [
    "df.columns"
   ]
  },
  {
   "cell_type": "code",
   "execution_count": null,
   "id": "2a305661",
   "metadata": {},
   "outputs": [],
   "source": [
    "df.Prediction.unique()"
   ]
  },
  {
   "cell_type": "code",
   "execution_count": 8,
   "id": "cff90760",
   "metadata": {},
   "outputs": [],
   "source": [
    "df['Prediction'] = df['Prediction'].replace({0:'Not spam', 1:'Spam'})"
   ]
  },
  {
   "cell_type": "code",
   "execution_count": null,
   "id": "627449b1",
   "metadata": {},
   "outputs": [],
   "source": [
    "df"
   ]
  },
  {
   "cell_type": "code",
   "execution_count": 10,
   "id": "6977528b",
   "metadata": {
    "scrolled": true
   },
   "outputs": [],
   "source": [
    "X = df.drop(columns='Prediction',axis = 1)\n",
    "Y = df['Prediction']"
   ]
  },
  {
   "cell_type": "code",
   "execution_count": null,
   "id": "0867cb10",
   "metadata": {},
   "outputs": [],
   "source": [
    "X.columns"
   ]
  },
  {
   "cell_type": "code",
   "execution_count": null,
   "id": "e5313217",
   "metadata": {},
   "outputs": [],
   "source": [
    "Y.head()"
   ]
  },
  {
   "cell_type": "code",
   "execution_count": 13,
   "id": "288664c7",
   "metadata": {},
   "outputs": [],
   "source": [
    "x_train, x_test, y_train, y_test = train_test_split(X, Y, test_size=0.2, random_state=1)"
   ]
  },
  {
   "cell_type": "code",
   "execution_count": 14,
   "id": "43606f6c",
   "metadata": {},
   "outputs": [],
   "source": [
    "KN = KNeighborsClassifier\n",
    "knn = KN(n_neighbors=7)\n",
    "knn.fit(x_train, y_train)\n",
    "y_pred = knn.predict(x_test)"
   ]
  },
  {
   "cell_type": "code",
   "execution_count": null,
   "id": "9fc1ec54",
   "metadata": {},
   "outputs": [],
   "source": [
    "print(\"Prediction: \\n\")\n",
    "print(y_pred)"
   ]
  },
  {
   "cell_type": "code",
   "execution_count": null,
   "id": "361c59cc",
   "metadata": {},
   "outputs": [],
   "source": [
    "# Accuracy\n",
    "\n",
    "M = metrics.accuracy_score(y_test,y_pred)\n",
    "print(\"KNN accuracy: \", M)"
   ]
  },
  {
   "cell_type": "code",
   "execution_count": null,
   "id": "3abd898f",
   "metadata": {},
   "outputs": [],
   "source": [
    "C = metrics.confusion_matrix(y_test,y_pred)\n",
    "print(\"Confusion matrix: \", C)"
   ]
  },
  {
   "cell_type": "code",
   "execution_count": 18,
   "id": "d0f28cc0",
   "metadata": {},
   "outputs": [],
   "source": [
    "model = SVC(C = 1)   # cost C = 1\n",
    "\n",
    "model.fit(x_train, y_train)\n",
    "\n",
    "y_pred = model.predict(x_test)      # predict"
   ]
  },
  {
   "cell_type": "code",
   "execution_count": null,
   "id": "5d04f212",
   "metadata": {},
   "outputs": [],
   "source": [
    "kc = metrics.confusion_matrix(y_test, y_pred)\n",
    "print(\"SVM accuracy: \", kc)"
   ]
  }
 ],
 "metadata": {
  "kernelspec": {
   "display_name": "Python 3",
   "language": "python",
   "name": "python3"
  },
  "language_info": {
   "codemirror_mode": {
    "name": "ipython",
    "version": 3
   },
   "file_extension": ".py",
   "mimetype": "text/x-python",
   "name": "python",
   "nbconvert_exporter": "python",
   "pygments_lexer": "ipython3",
   "version": "3.12.3"
  }
 },
 "nbformat": 4,
 "nbformat_minor": 5
}
